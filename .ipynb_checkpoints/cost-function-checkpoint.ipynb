{
 "cells": [
  {
   "cell_type": "code",
   "execution_count": 28,
   "id": "3095116f-ba28-4ce5-9244-265c07f5a97f",
   "metadata": {},
   "outputs": [],
   "source": [
    "import numpy as np\n",
    "%matplotlib widget\n",
    "import matplotlib.pyplot as plt\n",
    "from lab_utils_uni import plt_intuition, plt_stationary, plt_update_onclick, soup_bowl\n",
    "plt.style.use('./deeplearning.mplstyle')\n"
   ]
  },
  {
   "cell_type": "code",
   "execution_count": 29,
   "id": "7fc39eaa-5c8c-4723-999d-e9dd90e3257e",
   "metadata": {},
   "outputs": [],
   "source": [
    "x_train = np.array([1.0, 2.0])      \n",
    "y_train = np.array([300.0, 500.0])"
   ]
  },
  {
   "cell_type": "code",
   "execution_count": 30,
   "id": "074917af-2294-4cfc-b1e4-2d2152408751",
   "metadata": {},
   "outputs": [],
   "source": [
    "def compute_cost(x,y,w,b):\n",
    "    m=s.shape[0]\n",
    "    cost_sum=0\n",
    "    for i in range(m):\n",
    "        f_wb[i]=w*x[i]+b\n",
    "        cost=(f_wb-y[i])**2\n",
    "        cost_sum=cost_sum + cost\n",
    "    total_cost= (1/2*m)*cost_sum\n",
    "    return total_cost\n",
    "    "
   ]
  },
  {
   "cell_type": "code",
   "execution_count": 39,
   "id": "4c9c0d60-1956-419e-8caa-b65247d6d489",
   "metadata": {},
   "outputs": [
    {
     "data": {
      "application/vnd.jupyter.widget-view+json": {
       "model_id": "7faf6cf6a5b54f208061c9dfb6ea175a",
       "version_major": 2,
       "version_minor": 0
      },
      "text/plain": [
       "interactive(children=(IntSlider(value=150, description='w', max=400, step=10), Output()), _dom_classes=('widge…"
      ]
     },
     "metadata": {},
     "output_type": "display_data"
    }
   ],
   "source": [
    "plt_intuition(x_train,y_train)"
   ]
  },
  {
   "cell_type": "markdown",
   "id": "8099c5c5-6043-4570-acbc-c7ec73424f34",
   "metadata": {},
   "source": [
    "# Assistant\n",
    "It seems like the 'selected code' is a function call to a function named `plt_intuition` with the arguments `x_train` and `y_train`. This function is likely used to visualize or plot some intuition or insights related to the training data `x_train` and `y_train`. Without the definition of the `plt_intuition` function, it's not possible to provide a more detailed explanation of what this code does."
   ]
  },
  {
   "cell_type": "code",
   "execution_count": null,
   "id": "910b170d-3196-4e0e-9aed-16f18692f215",
   "metadata": {},
   "outputs": [],
   "source": []
  },
  {
   "cell_type": "code",
   "execution_count": null,
   "id": "b99d57b7-ab21-4b06-aae7-6f12adaab3ef",
   "metadata": {},
   "outputs": [],
   "source": []
  }
 ],
 "metadata": {
  "kernelspec": {
   "display_name": "Python 3 (ipykernel)",
   "language": "python",
   "name": "python3"
  },
  "language_info": {
   "codemirror_mode": {
    "name": "ipython",
    "version": 3
   },
   "file_extension": ".py",
   "mimetype": "text/x-python",
   "name": "python",
   "nbconvert_exporter": "python",
   "pygments_lexer": "ipython3",
   "version": "3.11.7"
  }
 },
 "nbformat": 4,
 "nbformat_minor": 5
}
